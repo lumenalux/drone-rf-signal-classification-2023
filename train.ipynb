{
  "cells": [
    {
      "cell_type": "code",
      "execution_count": null,
      "metadata": {
        "colab": {
          "base_uri": "https://localhost:8080/"
        },
        "id": "EfodVtPtcWvW",
        "outputId": "57bd18fd-1bce-48e1-d42d-8cced36570f6"
      },
      "outputs": [
        {
          "name": "stdout",
          "output_type": "stream",
          "text": [
            "Mounted at /content/drive\n"
          ]
        }
      ],
      "source": [
        "from google.colab import drive\n",
        "drive.mount('/content/drive')"
      ]
    },
    {
      "cell_type": "markdown",
      "metadata": {
        "id": "C-IHeB1aRlzl"
      },
      "source": [
        "##Завантажуємо датасет `feature_data.csv`"
      ]
    },
    {
      "cell_type": "code",
      "execution_count": null,
      "metadata": {
        "id": "EiN0bqyhRhQD"
      },
      "outputs": [],
      "source": [
        "import pandas as pd\n",
        "from sklearn.model_selection import train_test_split\n",
        "from sklearn.metrics import classification_report\n",
        "\n",
        "# Load data from CSV file\n",
        "df = pd.read_csv('/content/drive/MyDrive/ARCHIVE/Archive/Курсові/4 курс 1 семестр/Датасет/feature_data.csv')\n",
        "for col in df.columns:\n",
        "    df[col] = pd.to_numeric(df[col], errors='coerce')\n",
        "\n",
        "# Split data into features (X) and labels (y)\n",
        "X = df.drop('label', axis=1)\n",
        "y = df['label']\n",
        "\n",
        "class_names = ['DJI', 'FutabaT14', 'FutabaT7', 'Graupner', 'Noise', 'Taranis', 'Turnigy']\n",
        "\n",
        "X_train, X_val, y_train, y_val = train_test_split(X, y, test_size=0.2, random_state=42)"
      ]
    },
    {
      "cell_type": "markdown",
      "metadata": {
        "id": "865J2mRHON_E"
      },
      "source": [
        "##Метод найближчих сусідів [K-Nearest Neighbors (KNN)]\n",
        "####Визначення оптимальних параметрів:"
      ]
    },
    {
      "cell_type": "code",
      "execution_count": null,
      "metadata": {
        "colab": {
          "base_uri": "https://localhost:8080/"
        },
        "id": "WXGk4XAMSM-5",
        "outputId": "65fa9c35-f70a-4a31-e7f4-907967d1ab5f"
      },
      "outputs": [
        {
          "name": "stdout",
          "output_type": "stream",
          "text": [
            "Fitting 3 folds for each of 24 candidates, totalling 72 fits\n",
            "Best parameters found:  {'algorithm': 'ball_tree', 'n_neighbors': 10, 'weights': 'distance'}\n"
          ]
        }
      ],
      "source": [
        "from sklearn.neighbors import KNeighborsClassifier\n",
        "\n",
        "param_grid = {\n",
        "    'n_neighbors': [3, 5, 7, 10],\n",
        "    'weights': ['uniform', 'distance'],\n",
        "    'algorithm': ['ball_tree', 'kd_tree', 'brute'],\n",
        "}\n",
        "\n",
        "knn = KNeighborsClassifier()\n",
        "\n",
        "# Initialize the GridSearchCV object\n",
        "grid_search = GridSearchCV(estimator=knn, param_grid=param_grid, cv=3, n_jobs=-1, verbose=2)\n",
        "grid_search.fit(X_train, y_train)\n",
        "\n",
        "# Get the best parameters and use them to predict\n",
        "print(\"Best parameters found: \", grid_search.best_params_)"
      ]
    },
    {
      "cell_type": "markdown",
      "metadata": {
        "id": "PZtvOSlTYLcE"
      },
      "source": [
        "###Оцінювання найкращої KNN моделі"
      ]
    },
    {
      "cell_type": "code",
      "execution_count": null,
      "metadata": {
        "colab": {
          "base_uri": "https://localhost:8080/"
        },
        "id": "rqEVsG86YR5S",
        "outputId": "bed33b6c-b58a-4aec-aa06-e4060190ba86"
      },
      "outputs": [
        {
          "name": "stdout",
          "output_type": "stream",
          "text": [
            "              precision    recall  f1-score   support\n",
            "\n",
            "         DJI       0.45      0.11      0.17       426\n",
            "   FutabaT14       0.59      0.47      0.52      1397\n",
            "    FutabaT7       0.43      0.16      0.23       751\n",
            "    Graupner       0.63      0.46      0.53      1281\n",
            "       Noise       0.83      0.95      0.88     10448\n",
            "     Taranis       0.79      0.87      0.83      3289\n",
            "     Turnigy       0.58      0.50      0.53      2149\n",
            "\n",
            "    accuracy                           0.77     19741\n",
            "   macro avg       0.61      0.50      0.53     19741\n",
            "weighted avg       0.74      0.77      0.75     19741\n",
            "\n"
          ]
        }
      ],
      "source": [
        "best_knn_model = grid_search.best_estimator_\n",
        "y_pred = best_knn_model.predict(X_val)\n",
        "print(classification_report(y_val, y_pred, target_names=class_names))"
      ]
    },
    {
      "cell_type": "markdown",
      "metadata": {
        "id": "K1Lo268uk5X6"
      },
      "source": [
        "###Збереження моделі на диск"
      ]
    },
    {
      "cell_type": "code",
      "execution_count": null,
      "metadata": {
        "colab": {
          "base_uri": "https://localhost:8080/"
        },
        "id": "0F4Fzguck-cu",
        "outputId": "401fbfa9-cf00-4f40-dcc0-e6d7ba8424fa"
      },
      "outputs": [
        {
          "data": {
            "text/plain": [
              "['/content/drive/MyDrive/ARCHIVE/Archive/Курсові/4 курс 1 семестр/Датасет/knn_model.joblib']"
            ]
          },
          "execution_count": 42,
          "metadata": {},
          "output_type": "execute_result"
        }
      ],
      "source": [
        "import joblib\n",
        "\n",
        "knn_model_path = '/content/drive/MyDrive/ARCHIVE/Archive/Курсові/4 курс 1 семестр/Датасет/knn_model.joblib'\n",
        "joblib.dump(best_knn_model, knn_model_path)"
      ]
    },
    {
      "cell_type": "markdown",
      "metadata": {
        "id": "imNvSx0LJbdY"
      },
      "source": [
        "##XGBoost\n",
        "####Визначення оптимальних параметрів:"
      ]
    },
    {
      "cell_type": "code",
      "execution_count": null,
      "metadata": {
        "colab": {
          "base_uri": "https://localhost:8080/"
        },
        "id": "4xkT35oQUwA-",
        "outputId": "269a89a4-54b7-43c5-94b1-45e1182360e3"
      },
      "outputs": [
        {
          "name": "stdout",
          "output_type": "stream",
          "text": [
            "Fitting 3 folds for each of 9 candidates, totalling 27 fits\n",
            "Best parameters: {'max_depth': 10, 'n_estimators': 200}\n"
          ]
        }
      ],
      "source": [
        "import xgboost as xgb\n",
        "from sklearn.model_selection import GridSearchCV\n",
        "\n",
        "param_grid = {\n",
        "    'n_estimators': [50, 100, 200],\n",
        "    'max_depth': [6, 10, 15],\n",
        "}\n",
        "\n",
        "# Initialize an XGBoost classifier object\n",
        "xgb_model = xgb.XGBClassifier(use_label_encoder=False, eval_metric='mlogloss', verbosity=2)\n",
        "grid_search = GridSearchCV(estimator=xgb_model, param_grid=param_grid, cv=3, n_jobs=-1, verbose=2)\n",
        "\n",
        "# Fit GridSearchCV\n",
        "grid_search.fit(X_train, y_train)\n",
        "\n",
        "# Get the best parameters\n",
        "best_parameters = grid_search.best_params_\n",
        "print(f\"Best parameters: {best_parameters}\")"
      ]
    },
    {
      "cell_type": "markdown",
      "metadata": {
        "id": "5TyBqQ46Vp7I"
      },
      "source": [
        "####Отримуємо найкращю XGBoost модель та оцінюємо її"
      ]
    },
    {
      "cell_type": "code",
      "execution_count": null,
      "metadata": {
        "colab": {
          "base_uri": "https://localhost:8080/"
        },
        "id": "d96oiQN1VziT",
        "outputId": "6a4c14e8-a067-42a4-ecf0-775196975c42"
      },
      "outputs": [
        {
          "name": "stdout",
          "output_type": "stream",
          "text": [
            "              precision    recall  f1-score   support\n",
            "\n",
            "         DJI       0.87      0.60      0.71       426\n",
            "   FutabaT14       0.76      0.76      0.76      1397\n",
            "    FutabaT7       0.78      0.57      0.66       751\n",
            "    Graupner       0.83      0.79      0.81      1281\n",
            "       Noise       1.00      1.00      1.00     10448\n",
            "     Taranis       0.93      0.95      0.94      3289\n",
            "     Turnigy       0.74      0.85      0.79      2149\n",
            "\n",
            "    accuracy                           0.92     19741\n",
            "   macro avg       0.84      0.79      0.81     19741\n",
            "weighted avg       0.92      0.92      0.92     19741\n",
            "\n"
          ]
        }
      ],
      "source": [
        "best_xgboost_model = grid_search.best_estimator_\n",
        "y_pred = best_xgboost_model.predict(X_val)\n",
        "\n",
        "print(classification_report(y_val, y_pred, target_names=class_names))"
      ]
    },
    {
      "cell_type": "markdown",
      "metadata": {
        "id": "9RAIXKiRjuZW"
      },
      "source": [
        "####Зберігаємо на диск"
      ]
    },
    {
      "cell_type": "code",
      "execution_count": null,
      "metadata": {
        "colab": {
          "base_uri": "https://localhost:8080/"
        },
        "id": "FJvBV-uEjtlu",
        "outputId": "35eee317-d55e-4bc1-e6fc-1dc0b5ea1529"
      },
      "outputs": [
        {
          "data": {
            "text/plain": [
              "['/content/drive/MyDrive/ARCHIVE/Archive/Курсові/4 курс 1 семестр/Датасет/xgboost_model.joblib']"
            ]
          },
          "execution_count": 41,
          "metadata": {},
          "output_type": "execute_result"
        }
      ],
      "source": [
        "import joblib\n",
        "\n",
        "xgb_model_path = '/content/drive/MyDrive/ARCHIVE/Archive/Курсові/4 курс 1 семестр/Датасет/xgboost_model.joblib'\n",
        "joblib.dump(best_xgboost_model, xgb_model_path)"
      ]
    }
  ],
  "metadata": {
    "colab": {
      "provenance": []
    },
    "kernelspec": {
      "display_name": "Python 3",
      "name": "python3"
    },
    "language_info": {
      "name": "python"
    }
  },
  "nbformat": 4,
  "nbformat_minor": 0
}
